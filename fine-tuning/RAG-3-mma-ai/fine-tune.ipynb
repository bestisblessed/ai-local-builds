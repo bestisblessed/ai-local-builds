{
 "cells": [
  {
   "cell_type": "code",
   "execution_count": 21,
   "metadata": {},
   "outputs": [],
   "source": [
    "import pandas as pd\n",
    "from sentence_transformers import SentenceTransformer\n",
    "import faiss\n",
    "import numpy as np\n",
    "import openai\n",
    "from openai import OpenAI\n",
    "import os\n",
    "import pickle\n",
    "import faiss\n",
    "from datetime import datetime"
   ]
  },
  {
   "cell_type": "code",
   "execution_count": 2,
   "metadata": {},
   "outputs": [
    {
     "name": "stdout",
     "output_type": "stream",
     "text": [
      "Original event_data_sherdog.csv rows: 8131\n",
      "Filtered event_data_sherdog.csv rows: 6858 (removed 1273 rows)\n",
      "Original fighter_info.csv rows: 2646\n",
      "Filtered fighter_info.csv rows: 2163 (removed 483 rows)\n",
      "\n",
      "Filtered files saved as 'event_data_sherdog.csv' and 'fighter_info.csv'.\n"
     ]
    }
   ],
   "source": [
    "# Step 0: Clean Files\n",
    "\n",
    "import pandas as pd\n",
    "\n",
    "# Load the original data files\n",
    "fighter_df = pd.read_csv(\"data-raw/fighter_info.csv\")\n",
    "event_df = pd.read_csv(\"data-raw/event_data_sherdog.csv\")\n",
    "\n",
    "# Save original row counts\n",
    "original_event_count = len(event_df)\n",
    "original_fighter_count = len(fighter_df)\n",
    "\n",
    "# Convert the \"Event Date\" column to datetime (coerce errors to NaT)\n",
    "event_df['Event Date'] = pd.to_datetime(event_df['Event Date'], errors='coerce')\n",
    "\n",
    "# Ensure the datetime is timezone-naive (remove timezone if present)\n",
    "if event_df['Event Date'].dt.tz is not None:\n",
    "    event_df['Event Date'] = event_df['Event Date'].dt.tz_convert(None)\n",
    "\n",
    "# Filter events: only include fights from January 1, 2010 onward\n",
    "event_df_filtered = event_df[event_df['Event Date'] >= pd.Timestamp(\"2010-01-01\")].reset_index(drop=True)\n",
    "filtered_event_count = len(event_df_filtered)\n",
    "removed_event_rows = original_event_count - filtered_event_count\n",
    "\n",
    "# Determine which fighters fought after 2010 (from both Fighter 1 and Fighter 2)\n",
    "fighter_ids_after_2010 = set(event_df_filtered[\"Fighter 1 ID\"].unique()).union(set(event_df_filtered[\"Fighter 2 ID\"].unique()))\n",
    "\n",
    "# Filter fighter_info.csv: only include fighters who fought after 2010\n",
    "fighter_df_filtered = fighter_df[fighter_df[\"Fighter_ID\"].isin(fighter_ids_after_2010)].reset_index(drop=True)\n",
    "filtered_fighter_count = len(fighter_df_filtered)\n",
    "removed_fighter_rows = original_fighter_count - filtered_fighter_count\n",
    "\n",
    "# Save the filtered data files\n",
    "event_df_filtered.to_csv(\"data-raw/event_data_sherdog.csv\", index=False)\n",
    "fighter_df_filtered.to_csv(\"data-raw/fighter_info.csv\", index=False)\n",
    "\n",
    "# Print the number of rows removed\n",
    "print(f\"Original event_data_sherdog.csv rows: {original_event_count}\")\n",
    "print(f\"Filtered event_data_sherdog.csv rows: {filtered_event_count} (removed {removed_event_rows} rows)\")\n",
    "print(f\"Original fighter_info.csv rows: {original_fighter_count}\")\n",
    "print(f\"Filtered fighter_info.csv rows: {filtered_fighter_count} (removed {removed_fighter_rows} rows)\")\n",
    "print(\"\\nFiltered files saved as 'event_data_sherdog.csv' and 'fighter_info.csv'.\")\n"
   ]
  },
  {
   "cell_type": "code",
   "execution_count": 3,
   "metadata": {},
   "outputs": [
    {
     "name": "stdout",
     "output_type": "stream",
     "text": [
      "Created 6849 documents for the knowledge base.\n",
      "\n",
      "Example document:\n",
      "Event on 2024-12-14 00:00:00: Fight between joaquin buckley and colby covington.\n",
      "joaquin buckley stats: Wins = 21, Losses = 6, Height = 5'8, Birth Date = apr 27, 1994.\n",
      "colby covington stats: Wins = 17, Losses = 5, Height = 5'11, Birth Date = feb 22, 1988.\n",
      "Outcome: joaquin buckley won by tko (doctor stoppage) in round 3 at 4:42.\n"
     ]
    }
   ],
   "source": [
    "# Step 1: Build Your Knowledge Base\n",
    "\n",
    "# Load the fighter info and event data\n",
    "fighter_df = pd.read_csv(\"data-raw/fighter_info.csv\")\n",
    "event_df = pd.read_csv(\"data-raw/event_data_sherdog.csv\")\n",
    "\n",
    "# Merge fighter stats for Fighter 1\n",
    "merged = pd.merge(\n",
    "    event_df,\n",
    "    fighter_df,\n",
    "    left_on=[\"Fighter 1\", \"Fighter 1 ID\"],\n",
    "    right_on=[\"Fighter\", \"Fighter_ID\"],\n",
    "    suffixes=('', '_fighter1')\n",
    ")\n",
    "\n",
    "# Merge fighter stats for Fighter 2; note that fighter columns for Fighter 2 get suffixed with _fighter2\n",
    "merged = pd.merge(\n",
    "    merged,\n",
    "    fighter_df,\n",
    "    left_on=[\"Fighter 2\", \"Fighter 2 ID\"],\n",
    "    right_on=[\"Fighter\", \"Fighter_ID\"],\n",
    "    suffixes=('', '_fighter2')\n",
    ")\n",
    "\n",
    "# Create a document (text summary) for each fight event that includes both fighters' stats and the outcome.\n",
    "def create_document(row):\n",
    "    # For Fighter 1, use the columns without suffix; for Fighter 2, columns have a _fighter2 suffix.\n",
    "    doc = (\n",
    "        f\"Event on {row['Event Date']}: Fight between {row['Fighter 1']} and {row['Fighter 2']}.\\n\"\n",
    "        f\"{row['Fighter 1']} stats: Wins = {row['Wins']}, Losses = {row['Losses']}, \"\n",
    "        f\"Height = {row['Height']}, Birth Date = {row['Birth Date']}.\\n\"\n",
    "        f\"{row['Fighter 2']} stats: Wins = {row['Wins_fighter2']}, Losses = {row['Losses_fighter2']}, \"\n",
    "        f\"Height = {row['Height_fighter2']}, Birth Date = {row['Birth Date_fighter2']}.\\n\"\n",
    "        f\"Outcome: {row['Winning Fighter']} won by {row['Winning Method']} in round {row['Winning Round']} at {row['Winning Time']}.\"\n",
    "    )\n",
    "    return doc\n",
    "\n",
    "# Apply the function to create a new 'document' column\n",
    "merged['document'] = merged.apply(create_document, axis=1)\n",
    "\n",
    "# Create our knowledge base: a list of document texts (and a corresponding list of IDs)\n",
    "documents = merged['document'].tolist()\n",
    "document_ids = merged.index.tolist()\n",
    "\n",
    "print(f\"Created {len(documents)} documents for the knowledge base.\")\n",
    "print(\"\\nExample document:\")\n",
    "print(documents[0])\n"
   ]
  },
  {
   "cell_type": "code",
   "execution_count": 4,
   "metadata": {},
   "outputs": [
    {
     "data": {
      "application/vnd.jupyter.widget-view+json": {
       "model_id": "9faeb0153c6a48b59d852eed8fe79332",
       "version_major": 2,
       "version_minor": 0
      },
      "text/plain": [
       "Batches:   0%|          | 0/215 [00:00<?, ?it/s]"
      ]
     },
     "metadata": {},
     "output_type": "display_data"
    },
    {
     "name": "stdout",
     "output_type": "stream",
     "text": [
      "Generated embeddings for all documents.\n"
     ]
    }
   ],
   "source": [
    "# Step 2: Compute Document Embeddings\n",
    "# Use a SentenceTransformer to convert each document into an embedding.\n",
    "\n",
    "# Load a pre-trained model (this model is fast and works well on a Mac)\n",
    "model = SentenceTransformer('all-MiniLM-L6-v2')\n",
    "# model = SentenceTransformer('all-MiniLM-L6-v2', device='cpu')  # Force CPU usage\n",
    "\n",
    "# Generate embeddings for each document\n",
    "embeddings = model.encode(documents, convert_to_tensor=False, show_progress_bar=True, convert_to_numpy=True)\n",
    "# embeddings = model.encode(documents, batch_size=2, convert_to_tensor=False, show_progress_bar=True)\n",
    "\n",
    "print(\"Generated embeddings for all documents.\")\n"
   ]
  },
  {
   "cell_type": "code",
   "execution_count": 5,
   "metadata": {},
   "outputs": [
    {
     "name": "stdout",
     "output_type": "stream",
     "text": [
      "FAISS index built with 6849 vectors.\n"
     ]
    }
   ],
   "source": [
    "# Step 3: Build a FAISS Index\n",
    "# We use FAISS to index the embeddings so we can quickly retrieve the most relevant documents.\n",
    "\n",
    "# Convert the embeddings list to a numpy array of type float32\n",
    "embeddings_np = np.array(embeddings).astype('float32')\n",
    "d = embeddings_np.shape[1]  # dimensionality of the embeddings\n",
    "\n",
    "# Create a FAISS index (using L2 distance)\n",
    "index = faiss.IndexFlatL2(d)\n",
    "index.add(embeddings_np)\n",
    "\n",
    "print(f\"FAISS index built with {index.ntotal} vectors.\")\n"
   ]
  },
  {
   "cell_type": "code",
   "execution_count": 6,
   "metadata": {},
   "outputs": [
    {
     "name": "stdout",
     "output_type": "stream",
     "text": [
      "Retrieved Documents:\n",
      "Distance: 0.67 - Event on 2017-11-18 21:00:00: Fight between belal muhammad and tim means.\n",
      "belal muhammad stats: Wins = 24, Losses = 3, Height = 5'10, Birth Date = jul 9, 1988.\n",
      "tim means stats: Wins = 33, Losses = 17, Height = 6'2, Birth Date = feb 20, 1984.\n",
      "Outcome: belal muhammad won by decision (split) in round 3 at 5:00.\n",
      "Distance: 0.67 - Event on 2018-06-01 00:00:00: Fight between belal muhammad and chance rencountre.\n",
      "belal muhammad stats: Wins = 24, Losses = 3, Height = 5'10, Birth Date = jul 9, 1988.\n",
      "chance rencountre stats: Wins = 16, Losses = 5, Height = 6'2, Birth Date = dec 31, 1986.\n",
      "Outcome: belal muhammad won by decision (unanimous) in round 3 at 5:00.\n",
      "Distance: 0.67 - Event on 2017-02-11 00:00:00: Fight between belal muhammad and randy brown.\n",
      "belal muhammad stats: Wins = 24, Losses = 3, Height = 5'10, Birth Date = jul 9, 1988.\n",
      "randy brown stats: Wins = 19, Losses = 6, Height = 6'3, Birth Date = jul 8, 1990.\n",
      "Outcome: belal muhammad won by decision (unanimous) in round 3 at 5:00.\n"
     ]
    }
   ],
   "source": [
    "# Step 4: Create a Retrieval Function\n",
    "# This function takes a query, computes its embedding, and then retrieves the top‑k most similar documents from the FAISS index.\n",
    "\n",
    "def retrieve_documents(query, k=3):\n",
    "    # Compute the query embedding\n",
    "    query_embedding = model.encode([query], convert_to_tensor=False)\n",
    "    query_embedding_np = np.array(query_embedding).astype('float32')\n",
    "    \n",
    "    # Search the FAISS index for the top k closest embeddings\n",
    "    distances, indices = index.search(query_embedding_np, k)\n",
    "    \n",
    "    # Retrieve the corresponding documents\n",
    "    retrieved_docs = [documents[i] for i in indices[0]]\n",
    "    return retrieved_docs, distances[0]\n",
    "\n",
    "# Example retrieval:\n",
    "# sample_query = \"Predict the potential outcome for a fight between Jon Jones and Tom Aspinall.\"\n",
    "sample_query = \"Predict the potential outcome for a fight between Belal Muhammad and Jack Delamadellena.\"\n",
    "retrieved_docs, distances = retrieve_documents(sample_query, k=3)\n",
    "\n",
    "print(\"Retrieved Documents:\")\n",
    "for doc, dist in zip(retrieved_docs, distances):\n",
    "    print(f\"Distance: {dist:.2f} - {doc}\")\n"
   ]
  },
  {
   "cell_type": "code",
   "execution_count": 25,
   "metadata": {},
   "outputs": [
    {
     "name": "stdout",
     "output_type": "stream",
     "text": [
      "ChatCompletion(id='chatcmpl-B4pM80RQ9DVgiQbQdZO4svaSJfoBU', choices=[Choice(finish_reason='stop', index=0, logprobs=None, message=ChatCompletionMessage(content='To analyze a potential matchup between Jon Jones and Tom Aspinall, let\\'s first examine their historical stats and recent performances in depth.\\n\\n### Jon Jones\\n\\n**Historical Stats:**\\n- **Wins:** 26\\n- **Losses:** 1 (DQ against Matt Hamill)\\n- **Height:** 6\\'4\"\\n- **Birth Date:** July 19, 1987\\n\\n**Recent Performance:**\\nJon Jones is widely regarded as one of the greatest mixed martial artists of all time. He has an extensive and impressive resume, having competed against some of the best fighters in the light heavyweight and heavyweight divisions. His last fight was on March 4, 2023, against Ciryl Gane at UFC 285, where he won the heavyweight title by submission in the first round. This fight showcased his ability to adapt to a new weight class and his continued dominance in the sport.\\n\\n**Strengths:**\\n- **Fight IQ:** Jones has an exceptional understanding of fight strategy, often adjusting his game plan mid-fight.\\n- **Versatility:** He is proficient in both striking and grappling, with a diverse skill set that includes wrestling, Muay Thai, and Brazilian Jiu-Jitsu.\\n- **Experience:** Jones has faced a wide range of opponents, giving him a wealth of experience in high-pressure situations.\\n\\n**Weaknesses:**\\n- **Inactivity:** Jones has had periods of inactivity due to various reasons, including legal issues and personal problems. This could impact his performance if he is not consistently competing.\\n- **Potential Ring Rust:** Given his long absence from the octagon prior to UFC 285, there is always a concern about how well he can perform after extended breaks.\\n\\n### Tom Aspinall\\n\\n**Historical Stats:**\\n- **Wins:** 12\\n- **Losses:** 2\\n- **Height:** 6\\'5\"\\n- **Birth Date:** April 11, 1993\\n\\n**Recent Performance:**\\nTom Aspinall has rapidly ascended the heavyweight ranks with a string of impressive performances. He is known for his striking power and grappling ability, often finishing fights quickly. His last fight was on July 22, 2023, against Sergei Pavlovich, where he suffered a TKO loss in the first round due to a knee injury. Prior to that, he had a series of victories, including finishes against notable opponents like Alexander Volkov and Andrei Arlovski.\\n\\n**Strengths:**\\n- **Speed and Agility:** Aspinall is known for his quickness and footwork, which is somewhat unusual for a heavyweight.\\n- **Finishing Ability:** Most of his wins have come by way of knockout or submission, demonstrating his ability to end fights decisively.\\n- **Grappling:** He has a solid grappling background, which allows him to control opponents on the ground.\\n\\n**Weaknesses:**\\n- **Inexperience:** While he has shown great potential, Aspinall lacks the extensive experience that Jones possesses, particularly in high-stakes fights.\\n- **Injury Concerns:** His recent injury in the fight against Pavlovich raises questions about his durability and ability to withstand pressure in a fight.\\n\\n### Prediction\\n\\n**Winner:** Jon Jones\\n\\n**Method of Victory:** Submission\\n\\n**Round:** 3\\n\\n**Rationale:**\\n1. **Experience vs. Inexperience:** Jon Jones has faced elite competition throughout his career, while Aspinall is still relatively new to the top tier of the heavyweight division. This experience will likely give Jones an edge in a high-pressure environment.\\n   \\n2. **Fight IQ and Adaptability:** Jones\\'s ability to adjust his strategy mid-fight is unparalleled. He can exploit Aspinall\\'s weaknesses, particularly if the fight goes into deeper rounds where Jones\\'s conditioning and experience will play a significant role.\\n\\n3. **Grappling Advantage:** While Aspinall has grappling skills, Jones\\'s wrestling and submission game are elite. If the fight goes to the ground, Jones is likely to find openings for submissions, especially as Aspinall tires.\\n\\n4. **Durability and Conditioning:** Jones has shown the ability to endure and thrive in later rounds, while Aspinall\\'s recent injury and the nature of heavyweights suggest that he may not be able to maintain his pace against a fighter of Jones\\'s caliber.\\n\\nIn conclusion, while Tom Aspinall is a talented fighter with a bright future, Jon Jones\\'s experience, fight IQ, and grappling prowess make him the likely winner in this matchup, with a submission victory in the third round.', refusal=None, role='assistant', audio=None, function_call=None, tool_calls=None))], created=1740490424, model='gpt-4o-mini-2024-07-18', object='chat.completion', service_tier='default', system_fingerprint='fp_7fcd609668', usage=CompletionUsage(completion_tokens=927, prompt_tokens=456, total_tokens=1383, completion_tokens_details=CompletionTokensDetails(accepted_prediction_tokens=0, audio_tokens=0, reasoning_tokens=0, rejected_prediction_tokens=0), prompt_tokens_details=PromptTokensDetails(audio_tokens=0, cached_tokens=0)))\n",
      "Saved prediction to outputs/prediction_Jon Jones vs Tom Aspinall.md\n",
      "Prediction: To analyze a potential matchup between Jon Jones and Tom Aspinall, let's first examine their historical stats and recent performances in depth.\n",
      "\n",
      "### Jon Jones\n",
      "\n",
      "**Historical Stats:**\n",
      "- **Wins:** 26\n",
      "- **Losses:** 1 (DQ against Matt Hamill)\n",
      "- **Height:** 6'4\"\n",
      "- **Birth Date:** July 19, 1987\n",
      "\n",
      "**Recent Performance:**\n",
      "Jon Jones is widely regarded as one of the greatest mixed martial artists of all time. He has an extensive and impressive resume, having competed against some of the best fighters in the light heavyweight and heavyweight divisions. His last fight was on March 4, 2023, against Ciryl Gane at UFC 285, where he won the heavyweight title by submission in the first round. This fight showcased his ability to adapt to a new weight class and his continued dominance in the sport.\n",
      "\n",
      "**Strengths:**\n",
      "- **Fight IQ:** Jones has an exceptional understanding of fight strategy, often adjusting his game plan mid-fight.\n",
      "- **Versatility:** He is proficient in both striking and grappling, with a diverse skill set that includes wrestling, Muay Thai, and Brazilian Jiu-Jitsu.\n",
      "- **Experience:** Jones has faced a wide range of opponents, giving him a wealth of experience in high-pressure situations.\n",
      "\n",
      "**Weaknesses:**\n",
      "- **Inactivity:** Jones has had periods of inactivity due to various reasons, including legal issues and personal problems. This could impact his performance if he is not consistently competing.\n",
      "- **Potential Ring Rust:** Given his long absence from the octagon prior to UFC 285, there is always a concern about how well he can perform after extended breaks.\n",
      "\n",
      "### Tom Aspinall\n",
      "\n",
      "**Historical Stats:**\n",
      "- **Wins:** 12\n",
      "- **Losses:** 2\n",
      "- **Height:** 6'5\"\n",
      "- **Birth Date:** April 11, 1993\n",
      "\n",
      "**Recent Performance:**\n",
      "Tom Aspinall has rapidly ascended the heavyweight ranks with a string of impressive performances. He is known for his striking power and grappling ability, often finishing fights quickly. His last fight was on July 22, 2023, against Sergei Pavlovich, where he suffered a TKO loss in the first round due to a knee injury. Prior to that, he had a series of victories, including finishes against notable opponents like Alexander Volkov and Andrei Arlovski.\n",
      "\n",
      "**Strengths:**\n",
      "- **Speed and Agility:** Aspinall is known for his quickness and footwork, which is somewhat unusual for a heavyweight.\n",
      "- **Finishing Ability:** Most of his wins have come by way of knockout or submission, demonstrating his ability to end fights decisively.\n",
      "- **Grappling:** He has a solid grappling background, which allows him to control opponents on the ground.\n",
      "\n",
      "**Weaknesses:**\n",
      "- **Inexperience:** While he has shown great potential, Aspinall lacks the extensive experience that Jones possesses, particularly in high-stakes fights.\n",
      "- **Injury Concerns:** His recent injury in the fight against Pavlovich raises questions about his durability and ability to withstand pressure in a fight.\n",
      "\n",
      "### Prediction\n",
      "\n",
      "**Winner:** Jon Jones\n",
      "\n",
      "**Method of Victory:** Submission\n",
      "\n",
      "**Round:** 3\n",
      "\n",
      "**Rationale:**\n",
      "1. **Experience vs. Inexperience:** Jon Jones has faced elite competition throughout his career, while Aspinall is still relatively new to the top tier of the heavyweight division. This experience will likely give Jones an edge in a high-pressure environment.\n",
      "   \n",
      "2. **Fight IQ and Adaptability:** Jones's ability to adjust his strategy mid-fight is unparalleled. He can exploit Aspinall's weaknesses, particularly if the fight goes into deeper rounds where Jones's conditioning and experience will play a significant role.\n",
      "\n",
      "3. **Grappling Advantage:** While Aspinall has grappling skills, Jones's wrestling and submission game are elite. If the fight goes to the ground, Jones is likely to find openings for submissions, especially as Aspinall tires.\n",
      "\n",
      "4. **Durability and Conditioning:** Jones has shown the ability to endure and thrive in later rounds, while Aspinall's recent injury and the nature of heavyweights suggest that he may not be able to maintain his pace against a fighter of Jones's caliber.\n",
      "\n",
      "In conclusion, while Tom Aspinall is a talented fighter with a bright future, Jon Jones's experience, fight IQ, and grappling prowess make him the likely winner in this matchup, with a submission victory in the third round.\n"
     ]
    }
   ],
   "source": [
    "# Step 5: Integrate with an LLM for Generation\n",
    "# Finally, create a prompt that includes your query and the retrieved documents. Then call OpenAI’s API to generate a prediction.\n",
    "\n",
    "# sample_query = \"Predict the potential outcome for a fight between Jon Jones and Tom Aspinall.\"\n",
    "# sample_query = \"Predict the potential outcome for a fight between Belal Muhammad and Jack Delamadellena.\"\n",
    "# sample_query = \"research and tell me about Belal Muhammad in depth, including his five most recent fights, chronologically and general stats\"\n",
    "# sample_query = \"Belal Muhammad vs Jack Delamadellena\"\n",
    "sample_query = \"Jon Jones vs Tom Aspinall\"\n",
    "\n",
    "client = OpenAI(\n",
    "    api_key=os.getenv(\"OPENAI_API_KEY\")  # Or directly: api_key=\"your-key-here\"\n",
    ")\n",
    "\n",
    "def generate_prediction(query, retrieved_docs):\n",
    "    # Combine the retrieved documents into a single context string\n",
    "    context = \"\\n\\n\".join(retrieved_docs)\n",
    "    \n",
    "    # Construct the prompt: it includes the context and the query\n",
    "    prompt = (\n",
    "        # f\"Use and analyze the following historical fight data:\\n{context}\\n\\n\"\n",
    "        f\"Using the following historical fight data:{context}, given the potential matchup between '{query}', analyze the first fighter, then the 2nd fighters historical stats and recent performances in depth. Then, predict the winner of a potential matchup between them, including the method of victory and the round in which the fight might end and why you think that outcome is likely in detail.\"\n",
    "    )\n",
    "    \n",
    "    # Call the OpenAI ChatCompletion API\n",
    "    response = client.chat.completions.create(\n",
    "        # model=\"gpt-3.5-turbo\",\n",
    "        model=\"gpt-4o-mini\",\n",
    "        messages=[\n",
    "            {\"role\": \"system\", \"content\": \"You are a knowledgeable MMA fight analyst.\"},\n",
    "            {\"role\": \"user\", \"content\": prompt}\n",
    "        ],\n",
    "        temperature=0.3\n",
    "        # max_tokens=100\n",
    "    )\n",
    "    print(response)\n",
    "    answer = response.choices[0].message.content.strip()\n",
    "    \n",
    "    timestamp = datetime.now().strftime(\"%Y-%m-%d_%H-%M-%S\")\n",
    "    filename = f\"outputs/prediction_{sample_query}.md\"\n",
    "    with open(filename, \"w\") as f:\n",
    "        f.write(f\"# MMA Fight Prediction Report\\n\\n\")\n",
    "        f.write(f\"**Date**: {timestamp.replace('_', ' ')}\\n\")\n",
    "        f.write(f\"**Model**: {response.model}\\n\")\n",
    "        f.write(f\"**Query**: {query}\\n\\n\")\n",
    "        f.write(f\"## Prediction\\n\\n{answer}\\n\\n\")\n",
    "        f.write(f\"## Raw Output\\n\\n{response}\\n\\n\")\n",
    "        f.write(f\"---\\n*Tokens Used: {response.usage.total_tokens}*\")\n",
    "    print(f\"Saved prediction to {filename}\")\n",
    "    return answer\n",
    "\n",
    "# Example generation:\n",
    "prediction = generate_prediction(sample_query, retrieved_docs)\n",
    "print(\"Prediction:\", prediction)\n"
   ]
  },
  {
   "cell_type": "code",
   "execution_count": 8,
   "metadata": {},
   "outputs": [
    {
     "name": "stdout",
     "output_type": "stream",
     "text": [
      "Saved model to 'mma_prediction_model' folder\n",
      "Saved FAISS index to 'mma_faiss_index.index'\n",
      "Saved documents to 'mma_documents.pkl'\n",
      "Saved document IDs to 'mma_document_ids.pkl'\n"
     ]
    }
   ],
   "source": [
    "# Save Model\n",
    "\n",
    "# 1. Save model\n",
    "model.save(\"mma_prediction_model\")  # Creates a folder with model files\n",
    "print(\"Saved model to 'mma_prediction_model' folder\")\n",
    "\n",
    "# 2. Save FAISS index\n",
    "faiss.write_index(index, \"mma_faiss_index.index\")\n",
    "print(\"Saved FAISS index to 'mma_faiss_index.index'\")\n",
    "\n",
    "# 3. Save documents\n",
    "with open(\"mma_documents.pkl\", \"wb\") as f:\n",
    "    pickle.dump(documents, f)\n",
    "print(\"Saved documents to 'mma_documents.pkl'\")\n",
    "\n",
    "# 4. Save document IDs (if needed)\n",
    "with open(\"mma_document_ids.pkl\", \"wb\") as f:\n",
    "    pickle.dump(document_ids, f)\n",
    "print(\"Saved document IDs to 'mma_document_ids.pkl'\")"
   ]
  },
  {
   "cell_type": "code",
   "execution_count": null,
   "metadata": {},
   "outputs": [],
   "source": [
    "### Reload Model and ask Question (if you dont wanna rebuild) ###\n",
    " \n",
    "model = SentenceTransformer('mma_prediction_model')\n",
    "index = faiss.read_index(\"mma_faiss_index.index\")\n",
    "\n",
    "with open(\"mma_documents.pkl\", \"rb\") as f:\n",
    "    documents = pickle.load(f)\n",
    "    \n",
    "with open(\"mma_document_ids.pkl\", \"rb\") as f:\n",
    "    document_ids = pickle.load(f)\n",
    "    \n",
    "    \n",
    "# Define the retrieval function AFTER loading resources\n",
    "def retrieve_documents(query, k=3):\n",
    "    query_embedding = model.encode([query], convert_to_tensor=False)\n",
    "    query_embedding_np = np.array(query_embedding).astype('float32')\n",
    "    distances, indices = index.search(query_embedding_np, k)\n",
    "    return [documents[i] for i in indices[0]], distances[0]\n",
    "\n",
    "\n",
    "# After loading saved resources but before generation\n",
    "sample_query = \"Predict the potential outcome for a fight between Belal Muhammad and Jack Delamadellena.\"\n",
    "\n",
    "# First retrieve documents\n",
    "retrieved_docs, distances = retrieve_documents(sample_query, k=3)  # Add this line\n",
    "\n",
    "# Then generate prediction\n",
    "prediction = generate_prediction(sample_query, retrieved_docs)\n",
    "print(\"Prediction:\", prediction)"
   ]
  },
  {
   "cell_type": "code",
   "execution_count": null,
   "metadata": {},
   "outputs": [],
   "source": []
  },
  {
   "cell_type": "code",
   "execution_count": null,
   "metadata": {},
   "outputs": [],
   "source": []
  },
  {
   "cell_type": "code",
   "execution_count": null,
   "metadata": {},
   "outputs": [],
   "source": []
  }
 ],
 "metadata": {
  "kernelspec": {
   "display_name": "Python 3",
   "language": "python",
   "name": "python3"
  },
  "language_info": {
   "codemirror_mode": {
    "name": "ipython",
    "version": 3
   },
   "file_extension": ".py",
   "mimetype": "text/x-python",
   "name": "python",
   "nbconvert_exporter": "python",
   "pygments_lexer": "ipython3",
   "version": "3.12.0"
  }
 },
 "nbformat": 4,
 "nbformat_minor": 2
}
